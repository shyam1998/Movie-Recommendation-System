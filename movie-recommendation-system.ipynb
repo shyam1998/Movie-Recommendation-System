{
 "cells": [
  {
   "cell_type": "code",
   "execution_count": 1,
   "metadata": {},
   "outputs": [],
   "source": [
    "import pandas as pd\n",
    "import numpy as np\n",
    "import matplotlib.pyplot as plt\n",
    "import seaborn as sns\n",
    "import warnings\n",
    "warnings.filterwarnings('ignore')\n",
    "sns.set_style('whitegrid')"
   ]
  },
  {
   "cell_type": "markdown",
   "metadata": {},
   "source": [
    "<h4> Merging the \"ratings\" and \"basics\" datasets </h4>\n",
    "For more information about these datasets, visit <a href=https://www.imdb.com/interfaces/> https://www.imdb.com/interfaces/ </a>"
   ]
  },
  {
   "cell_type": "code",
   "execution_count": 2,
   "metadata": {},
   "outputs": [],
   "source": [
    "ratings = pd.read_csv(r'datasets/title.ratings.tsv/data.tsv',sep='\\t')"
   ]
  },
  {
   "cell_type": "code",
   "execution_count": 3,
   "metadata": {},
   "outputs": [],
   "source": [
    "basics = pd.read_csv(r'datasets/title.basics.tsv/data.tsv', sep='\\t',low_memory=False)"
   ]
  },
  {
   "cell_type": "code",
   "execution_count": 4,
   "metadata": {},
   "outputs": [],
   "source": [
    "df = pd.merge(basics,ratings,on='tconst')"
   ]
  },
  {
   "cell_type": "code",
   "execution_count": 5,
   "metadata": {},
   "outputs": [
    {
     "data": {
      "text/html": [
       "<div>\n",
       "<style scoped>\n",
       "    .dataframe tbody tr th:only-of-type {\n",
       "        vertical-align: middle;\n",
       "    }\n",
       "\n",
       "    .dataframe tbody tr th {\n",
       "        vertical-align: top;\n",
       "    }\n",
       "\n",
       "    .dataframe thead th {\n",
       "        text-align: right;\n",
       "    }\n",
       "</style>\n",
       "<table border=\"1\" class=\"dataframe\">\n",
       "  <thead>\n",
       "    <tr style=\"text-align: right;\">\n",
       "      <th></th>\n",
       "      <th>tconst</th>\n",
       "      <th>titleType</th>\n",
       "      <th>primaryTitle</th>\n",
       "      <th>originalTitle</th>\n",
       "      <th>isAdult</th>\n",
       "      <th>startYear</th>\n",
       "      <th>endYear</th>\n",
       "      <th>runtimeMinutes</th>\n",
       "      <th>genres</th>\n",
       "      <th>averageRating</th>\n",
       "      <th>numVotes</th>\n",
       "    </tr>\n",
       "  </thead>\n",
       "  <tbody>\n",
       "    <tr>\n",
       "      <th>0</th>\n",
       "      <td>tt0000001</td>\n",
       "      <td>short</td>\n",
       "      <td>Carmencita</td>\n",
       "      <td>Carmencita</td>\n",
       "      <td>0</td>\n",
       "      <td>1894</td>\n",
       "      <td>\\N</td>\n",
       "      <td>1</td>\n",
       "      <td>Documentary,Short</td>\n",
       "      <td>5.7</td>\n",
       "      <td>1702</td>\n",
       "    </tr>\n",
       "    <tr>\n",
       "      <th>1</th>\n",
       "      <td>tt0000002</td>\n",
       "      <td>short</td>\n",
       "      <td>Le clown et ses chiens</td>\n",
       "      <td>Le clown et ses chiens</td>\n",
       "      <td>0</td>\n",
       "      <td>1892</td>\n",
       "      <td>\\N</td>\n",
       "      <td>5</td>\n",
       "      <td>Animation,Short</td>\n",
       "      <td>6.1</td>\n",
       "      <td>210</td>\n",
       "    </tr>\n",
       "    <tr>\n",
       "      <th>2</th>\n",
       "      <td>tt0000003</td>\n",
       "      <td>short</td>\n",
       "      <td>Pauvre Pierrot</td>\n",
       "      <td>Pauvre Pierrot</td>\n",
       "      <td>0</td>\n",
       "      <td>1892</td>\n",
       "      <td>\\N</td>\n",
       "      <td>4</td>\n",
       "      <td>Animation,Comedy,Romance</td>\n",
       "      <td>6.5</td>\n",
       "      <td>1458</td>\n",
       "    </tr>\n",
       "    <tr>\n",
       "      <th>3</th>\n",
       "      <td>tt0000004</td>\n",
       "      <td>short</td>\n",
       "      <td>Un bon bock</td>\n",
       "      <td>Un bon bock</td>\n",
       "      <td>0</td>\n",
       "      <td>1892</td>\n",
       "      <td>\\N</td>\n",
       "      <td>12</td>\n",
       "      <td>Animation,Short</td>\n",
       "      <td>6.2</td>\n",
       "      <td>123</td>\n",
       "    </tr>\n",
       "    <tr>\n",
       "      <th>4</th>\n",
       "      <td>tt0000005</td>\n",
       "      <td>short</td>\n",
       "      <td>Blacksmith Scene</td>\n",
       "      <td>Blacksmith Scene</td>\n",
       "      <td>0</td>\n",
       "      <td>1893</td>\n",
       "      <td>\\N</td>\n",
       "      <td>1</td>\n",
       "      <td>Comedy,Short</td>\n",
       "      <td>6.2</td>\n",
       "      <td>2260</td>\n",
       "    </tr>\n",
       "  </tbody>\n",
       "</table>\n",
       "</div>"
      ],
      "text/plain": [
       "      tconst titleType            primaryTitle           originalTitle  \\\n",
       "0  tt0000001     short              Carmencita              Carmencita   \n",
       "1  tt0000002     short  Le clown et ses chiens  Le clown et ses chiens   \n",
       "2  tt0000003     short          Pauvre Pierrot          Pauvre Pierrot   \n",
       "3  tt0000004     short             Un bon bock             Un bon bock   \n",
       "4  tt0000005     short        Blacksmith Scene        Blacksmith Scene   \n",
       "\n",
       "  isAdult startYear endYear runtimeMinutes                    genres  \\\n",
       "0       0      1894      \\N              1         Documentary,Short   \n",
       "1       0      1892      \\N              5           Animation,Short   \n",
       "2       0      1892      \\N              4  Animation,Comedy,Romance   \n",
       "3       0      1892      \\N             12           Animation,Short   \n",
       "4       0      1893      \\N              1              Comedy,Short   \n",
       "\n",
       "   averageRating  numVotes  \n",
       "0            5.7      1702  \n",
       "1            6.1       210  \n",
       "2            6.5      1458  \n",
       "3            6.2       123  \n",
       "4            6.2      2260  "
      ]
     },
     "execution_count": 5,
     "metadata": {},
     "output_type": "execute_result"
    }
   ],
   "source": [
    "df.head()"
   ]
  },
  {
   "cell_type": "markdown",
   "metadata": {},
   "source": [
    "<h3> Data Preprocessing"
   ]
  },
  {
   "cell_type": "code",
   "execution_count": 6,
   "metadata": {},
   "outputs": [],
   "source": [
    "# Converting 'startYear' and 'endYear' columns to int type\n",
    "\n",
    "df['startYear'] = [0 if year == '\\\\N' else int(year) for year in df['startYear']]\n",
    "\n",
    "df['endYear'] = [year if year == '\\\\N' else int(year) for year in df['endYear']]"
   ]
  },
  {
   "cell_type": "code",
   "execution_count": 7,
   "metadata": {},
   "outputs": [],
   "source": [
    "# restricting the dataset to only contain movies that is relased after the year 1960\n",
    "\n",
    "df = df[df['startYear']>=1960]"
   ]
  },
  {
   "cell_type": "code",
   "execution_count": 8,
   "metadata": {},
   "outputs": [],
   "source": [
    "# dropping the 'runtimeMinutes' column as it's not a good predictor of ratings\n",
    "\n",
    "df.drop(['runtimeMinutes'],axis=1,inplace=True)"
   ]
  },
  {
   "cell_type": "code",
   "execution_count": 9,
   "metadata": {},
   "outputs": [
    {
     "data": {
      "text/html": [
       "<div>\n",
       "<style scoped>\n",
       "    .dataframe tbody tr th:only-of-type {\n",
       "        vertical-align: middle;\n",
       "    }\n",
       "\n",
       "    .dataframe tbody tr th {\n",
       "        vertical-align: top;\n",
       "    }\n",
       "\n",
       "    .dataframe thead th {\n",
       "        text-align: right;\n",
       "    }\n",
       "</style>\n",
       "<table border=\"1\" class=\"dataframe\">\n",
       "  <thead>\n",
       "    <tr style=\"text-align: right;\">\n",
       "      <th></th>\n",
       "      <th>tconst</th>\n",
       "      <th>titleType</th>\n",
       "      <th>primaryTitle</th>\n",
       "      <th>originalTitle</th>\n",
       "      <th>isAdult</th>\n",
       "      <th>startYear</th>\n",
       "      <th>endYear</th>\n",
       "      <th>genres</th>\n",
       "      <th>averageRating</th>\n",
       "      <th>numVotes</th>\n",
       "    </tr>\n",
       "  </thead>\n",
       "  <tbody>\n",
       "    <tr>\n",
       "      <th>2923</th>\n",
       "      <td>tt0011216</td>\n",
       "      <td>movie</td>\n",
       "      <td>Spanish Fiesta</td>\n",
       "      <td>La fête espagnole</td>\n",
       "      <td>0</td>\n",
       "      <td>2019</td>\n",
       "      <td>\\N</td>\n",
       "      <td>Drama</td>\n",
       "      <td>6.3</td>\n",
       "      <td>23</td>\n",
       "    </tr>\n",
       "    <tr>\n",
       "      <th>4098</th>\n",
       "      <td>tt0015414</td>\n",
       "      <td>movie</td>\n",
       "      <td>La tierra de los toros</td>\n",
       "      <td>La tierra de los toros</td>\n",
       "      <td>0</td>\n",
       "      <td>2000</td>\n",
       "      <td>\\N</td>\n",
       "      <td>\\N</td>\n",
       "      <td>5.4</td>\n",
       "      <td>11</td>\n",
       "    </tr>\n",
       "    <tr>\n",
       "      <th>4216</th>\n",
       "      <td>tt0015724</td>\n",
       "      <td>movie</td>\n",
       "      <td>Dama de noche</td>\n",
       "      <td>Dama de noche</td>\n",
       "      <td>0</td>\n",
       "      <td>1993</td>\n",
       "      <td>\\N</td>\n",
       "      <td>Drama,Mystery,Romance</td>\n",
       "      <td>6.0</td>\n",
       "      <td>21</td>\n",
       "    </tr>\n",
       "    <tr>\n",
       "      <th>4674</th>\n",
       "      <td>tt0016906</td>\n",
       "      <td>movie</td>\n",
       "      <td>Frivolinas</td>\n",
       "      <td>Frivolinas</td>\n",
       "      <td>0</td>\n",
       "      <td>2014</td>\n",
       "      <td>\\N</td>\n",
       "      <td>Comedy,Musical</td>\n",
       "      <td>5.6</td>\n",
       "      <td>15</td>\n",
       "    </tr>\n",
       "    <tr>\n",
       "      <th>5264</th>\n",
       "      <td>tt0018295</td>\n",
       "      <td>short</td>\n",
       "      <td>El puño de hierro</td>\n",
       "      <td>El puño de hierro</td>\n",
       "      <td>0</td>\n",
       "      <td>2004</td>\n",
       "      <td>\\N</td>\n",
       "      <td>Action,Drama,Short</td>\n",
       "      <td>6.6</td>\n",
       "      <td>31</td>\n",
       "    </tr>\n",
       "  </tbody>\n",
       "</table>\n",
       "</div>"
      ],
      "text/plain": [
       "         tconst titleType            primaryTitle           originalTitle  \\\n",
       "2923  tt0011216     movie          Spanish Fiesta       La fête espagnole   \n",
       "4098  tt0015414     movie  La tierra de los toros  La tierra de los toros   \n",
       "4216  tt0015724     movie           Dama de noche           Dama de noche   \n",
       "4674  tt0016906     movie              Frivolinas              Frivolinas   \n",
       "5264  tt0018295     short       El puño de hierro       El puño de hierro   \n",
       "\n",
       "     isAdult  startYear endYear                 genres  averageRating  \\\n",
       "2923       0       2019      \\N                  Drama            6.3   \n",
       "4098       0       2000      \\N                     \\N            5.4   \n",
       "4216       0       1993      \\N  Drama,Mystery,Romance            6.0   \n",
       "4674       0       2014      \\N         Comedy,Musical            5.6   \n",
       "5264       0       2004      \\N     Action,Drama,Short            6.6   \n",
       "\n",
       "      numVotes  \n",
       "2923        23  \n",
       "4098        11  \n",
       "4216        21  \n",
       "4674        15  \n",
       "5264        31  "
      ]
     },
     "execution_count": 9,
     "metadata": {},
     "output_type": "execute_result"
    }
   ],
   "source": [
    "df.head()"
   ]
  },
  {
   "cell_type": "code",
   "execution_count": 10,
   "metadata": {},
   "outputs": [
    {
     "data": {
      "text/plain": [
       "tvEpisode       523707\n",
       "movie           228201\n",
       "short           111940\n",
       "tvSeries         74335\n",
       "video            62808\n",
       "tvMovie          46587\n",
       "videoGame        12065\n",
       "tvMiniSeries     11609\n",
       "tvSpecial         9591\n",
       "tvShort           2107\n",
       "Name: titleType, dtype: int64"
      ]
     },
     "execution_count": 10,
     "metadata": {},
     "output_type": "execute_result"
    }
   ],
   "source": [
    "# checking what kind of categories are there in the dataset\n",
    "df['titleType'].value_counts()"
   ]
  },
  {
   "cell_type": "code",
   "execution_count": 11,
   "metadata": {},
   "outputs": [],
   "source": [
    "# eliminating the categories: 'short','tvShort','tvEpisode','videoGame' from the datasets\n",
    "def helper_func(title_type):\n",
    "    if title_type in ['short','tvShort','tvEpisode','videoGame']:\n",
    "        return np.nan\n",
    "    else:\n",
    "        return title_type"
   ]
  },
  {
   "cell_type": "code",
   "execution_count": 12,
   "metadata": {},
   "outputs": [],
   "source": [
    "df['titleType'] =  df['titleType'].apply(helper_func)"
   ]
  },
  {
   "cell_type": "code",
   "execution_count": 13,
   "metadata": {},
   "outputs": [],
   "source": [
    "df = df[df['titleType'].notna()]"
   ]
  },
  {
   "cell_type": "code",
   "execution_count": 14,
   "metadata": {},
   "outputs": [],
   "source": [
    "df['genres'] = df['genres'].apply(lambda x: np.nan if x == '\\\\N' else x)"
   ]
  },
  {
   "cell_type": "code",
   "execution_count": 15,
   "metadata": {},
   "outputs": [],
   "source": [
    "df = df[df['genres'].notna()]"
   ]
  },
  {
   "cell_type": "code",
   "execution_count": 16,
   "metadata": {},
   "outputs": [],
   "source": [
    "df.reset_index(drop=True,inplace=True)"
   ]
  },
  {
   "cell_type": "code",
   "execution_count": 17,
   "metadata": {},
   "outputs": [
    {
     "data": {
      "text/html": [
       "<div>\n",
       "<style scoped>\n",
       "    .dataframe tbody tr th:only-of-type {\n",
       "        vertical-align: middle;\n",
       "    }\n",
       "\n",
       "    .dataframe tbody tr th {\n",
       "        vertical-align: top;\n",
       "    }\n",
       "\n",
       "    .dataframe thead th {\n",
       "        text-align: right;\n",
       "    }\n",
       "</style>\n",
       "<table border=\"1\" class=\"dataframe\">\n",
       "  <thead>\n",
       "    <tr style=\"text-align: right;\">\n",
       "      <th></th>\n",
       "      <th>tconst</th>\n",
       "      <th>titleType</th>\n",
       "      <th>primaryTitle</th>\n",
       "      <th>originalTitle</th>\n",
       "      <th>isAdult</th>\n",
       "      <th>startYear</th>\n",
       "      <th>endYear</th>\n",
       "      <th>genres</th>\n",
       "      <th>averageRating</th>\n",
       "      <th>numVotes</th>\n",
       "    </tr>\n",
       "  </thead>\n",
       "  <tbody>\n",
       "    <tr>\n",
       "      <th>0</th>\n",
       "      <td>tt0011216</td>\n",
       "      <td>movie</td>\n",
       "      <td>Spanish Fiesta</td>\n",
       "      <td>La fête espagnole</td>\n",
       "      <td>0</td>\n",
       "      <td>2019</td>\n",
       "      <td>\\N</td>\n",
       "      <td>Drama</td>\n",
       "      <td>6.3</td>\n",
       "      <td>23</td>\n",
       "    </tr>\n",
       "    <tr>\n",
       "      <th>1</th>\n",
       "      <td>tt0015724</td>\n",
       "      <td>movie</td>\n",
       "      <td>Dama de noche</td>\n",
       "      <td>Dama de noche</td>\n",
       "      <td>0</td>\n",
       "      <td>1993</td>\n",
       "      <td>\\N</td>\n",
       "      <td>Drama,Mystery,Romance</td>\n",
       "      <td>6.0</td>\n",
       "      <td>21</td>\n",
       "    </tr>\n",
       "    <tr>\n",
       "      <th>2</th>\n",
       "      <td>tt0016906</td>\n",
       "      <td>movie</td>\n",
       "      <td>Frivolinas</td>\n",
       "      <td>Frivolinas</td>\n",
       "      <td>0</td>\n",
       "      <td>2014</td>\n",
       "      <td>\\N</td>\n",
       "      <td>Comedy,Musical</td>\n",
       "      <td>5.6</td>\n",
       "      <td>15</td>\n",
       "    </tr>\n",
       "    <tr>\n",
       "      <th>3</th>\n",
       "      <td>tt0019996</td>\n",
       "      <td>movie</td>\n",
       "      <td>Hongxia</td>\n",
       "      <td>Hongxia</td>\n",
       "      <td>0</td>\n",
       "      <td>2011</td>\n",
       "      <td>\\N</td>\n",
       "      <td>Action</td>\n",
       "      <td>6.3</td>\n",
       "      <td>52</td>\n",
       "    </tr>\n",
       "    <tr>\n",
       "      <th>4</th>\n",
       "      <td>tt0031458</td>\n",
       "      <td>movie</td>\n",
       "      <td>El huésped del sevillano</td>\n",
       "      <td>El huésped del sevillano</td>\n",
       "      <td>0</td>\n",
       "      <td>1970</td>\n",
       "      <td>\\N</td>\n",
       "      <td>Comedy</td>\n",
       "      <td>7.1</td>\n",
       "      <td>8</td>\n",
       "    </tr>\n",
       "  </tbody>\n",
       "</table>\n",
       "</div>"
      ],
      "text/plain": [
       "      tconst titleType              primaryTitle             originalTitle  \\\n",
       "0  tt0011216     movie            Spanish Fiesta         La fête espagnole   \n",
       "1  tt0015724     movie             Dama de noche             Dama de noche   \n",
       "2  tt0016906     movie                Frivolinas                Frivolinas   \n",
       "3  tt0019996     movie                   Hongxia                   Hongxia   \n",
       "4  tt0031458     movie  El huésped del sevillano  El huésped del sevillano   \n",
       "\n",
       "  isAdult  startYear endYear                 genres  averageRating  numVotes  \n",
       "0       0       2019      \\N                  Drama            6.3        23  \n",
       "1       0       1993      \\N  Drama,Mystery,Romance            6.0        21  \n",
       "2       0       2014      \\N         Comedy,Musical            5.6        15  \n",
       "3       0       2011      \\N                 Action            6.3        52  \n",
       "4       0       1970      \\N                 Comedy            7.1         8  "
      ]
     },
     "execution_count": 17,
     "metadata": {},
     "output_type": "execute_result"
    }
   ],
   "source": [
    "df.head()"
   ]
  },
  {
   "cell_type": "code",
   "execution_count": 18,
   "metadata": {},
   "outputs": [],
   "source": [
    "# saving the preprocessed dataset\n",
    "\n",
    "df.to_csv('imdb.csv',index=False)"
   ]
  },
  {
   "cell_type": "code",
   "execution_count": 19,
   "metadata": {},
   "outputs": [],
   "source": [
    "imdb = pd.read_csv('imdb.csv')"
   ]
  },
  {
   "cell_type": "code",
   "execution_count": 20,
   "metadata": {},
   "outputs": [
    {
     "data": {
      "text/html": [
       "<div>\n",
       "<style scoped>\n",
       "    .dataframe tbody tr th:only-of-type {\n",
       "        vertical-align: middle;\n",
       "    }\n",
       "\n",
       "    .dataframe tbody tr th {\n",
       "        vertical-align: top;\n",
       "    }\n",
       "\n",
       "    .dataframe thead th {\n",
       "        text-align: right;\n",
       "    }\n",
       "</style>\n",
       "<table border=\"1\" class=\"dataframe\">\n",
       "  <thead>\n",
       "    <tr style=\"text-align: right;\">\n",
       "      <th></th>\n",
       "      <th>tconst</th>\n",
       "      <th>titleType</th>\n",
       "      <th>primaryTitle</th>\n",
       "      <th>originalTitle</th>\n",
       "      <th>isAdult</th>\n",
       "      <th>startYear</th>\n",
       "      <th>endYear</th>\n",
       "      <th>genres</th>\n",
       "      <th>averageRating</th>\n",
       "      <th>numVotes</th>\n",
       "    </tr>\n",
       "  </thead>\n",
       "  <tbody>\n",
       "    <tr>\n",
       "      <th>0</th>\n",
       "      <td>tt0011216</td>\n",
       "      <td>movie</td>\n",
       "      <td>Spanish Fiesta</td>\n",
       "      <td>La fête espagnole</td>\n",
       "      <td>0</td>\n",
       "      <td>2019</td>\n",
       "      <td>\\N</td>\n",
       "      <td>Drama</td>\n",
       "      <td>6.3</td>\n",
       "      <td>23</td>\n",
       "    </tr>\n",
       "    <tr>\n",
       "      <th>1</th>\n",
       "      <td>tt0015724</td>\n",
       "      <td>movie</td>\n",
       "      <td>Dama de noche</td>\n",
       "      <td>Dama de noche</td>\n",
       "      <td>0</td>\n",
       "      <td>1993</td>\n",
       "      <td>\\N</td>\n",
       "      <td>Drama,Mystery,Romance</td>\n",
       "      <td>6.0</td>\n",
       "      <td>21</td>\n",
       "    </tr>\n",
       "    <tr>\n",
       "      <th>2</th>\n",
       "      <td>tt0016906</td>\n",
       "      <td>movie</td>\n",
       "      <td>Frivolinas</td>\n",
       "      <td>Frivolinas</td>\n",
       "      <td>0</td>\n",
       "      <td>2014</td>\n",
       "      <td>\\N</td>\n",
       "      <td>Comedy,Musical</td>\n",
       "      <td>5.6</td>\n",
       "      <td>15</td>\n",
       "    </tr>\n",
       "    <tr>\n",
       "      <th>3</th>\n",
       "      <td>tt0019996</td>\n",
       "      <td>movie</td>\n",
       "      <td>Hongxia</td>\n",
       "      <td>Hongxia</td>\n",
       "      <td>0</td>\n",
       "      <td>2011</td>\n",
       "      <td>\\N</td>\n",
       "      <td>Action</td>\n",
       "      <td>6.3</td>\n",
       "      <td>52</td>\n",
       "    </tr>\n",
       "    <tr>\n",
       "      <th>4</th>\n",
       "      <td>tt0031458</td>\n",
       "      <td>movie</td>\n",
       "      <td>El huésped del sevillano</td>\n",
       "      <td>El huésped del sevillano</td>\n",
       "      <td>0</td>\n",
       "      <td>1970</td>\n",
       "      <td>\\N</td>\n",
       "      <td>Comedy</td>\n",
       "      <td>7.1</td>\n",
       "      <td>8</td>\n",
       "    </tr>\n",
       "  </tbody>\n",
       "</table>\n",
       "</div>"
      ],
      "text/plain": [
       "      tconst titleType              primaryTitle             originalTitle  \\\n",
       "0  tt0011216     movie            Spanish Fiesta         La fête espagnole   \n",
       "1  tt0015724     movie             Dama de noche             Dama de noche   \n",
       "2  tt0016906     movie                Frivolinas                Frivolinas   \n",
       "3  tt0019996     movie                   Hongxia                   Hongxia   \n",
       "4  tt0031458     movie  El huésped del sevillano  El huésped del sevillano   \n",
       "\n",
       "   isAdult  startYear endYear                 genres  averageRating  numVotes  \n",
       "0        0       2019      \\N                  Drama            6.3        23  \n",
       "1        0       1993      \\N  Drama,Mystery,Romance            6.0        21  \n",
       "2        0       2014      \\N         Comedy,Musical            5.6        15  \n",
       "3        0       2011      \\N                 Action            6.3        52  \n",
       "4        0       1970      \\N                 Comedy            7.1         8  "
      ]
     },
     "execution_count": 20,
     "metadata": {},
     "output_type": "execute_result"
    }
   ],
   "source": [
    "imdb.head()"
   ]
  },
  {
   "cell_type": "code",
   "execution_count": 21,
   "metadata": {},
   "outputs": [
    {
     "data": {
      "text/plain": [
       "<AxesSubplot:xlabel='averageRating', ylabel='Density'>"
      ]
     },
     "execution_count": 21,
     "metadata": {},
     "output_type": "execute_result"
    },
    {
     "data": {
      "image/png": "[encoded data removed]",
      "text/plain": [
       "<Figure size 432x288 with 1 Axes>"
      ]
     },
     "metadata": {},
     "output_type": "display_data"
    }
   ],
   "source": [
    "# checking the distribution of the 'averageRating' column \n",
    "sns.distplot(imdb['averageRating'])"
   ]
  },
  {
   "cell_type": "code",
   "execution_count": 22,
   "metadata": {},
   "outputs": [
    {
     "data": {
      "text/plain": [
       "<AxesSubplot:xlabel='numVotes', ylabel='Density'>"
      ]
     },
     "execution_count": 22,
     "metadata": {},
     "output_type": "execute_result"
    },
    {
     "data": {
      "image/png": "[encoded data removed]",
      "text/plain": [
       "<Figure size 432x288 with 1 Axes>"
      ]
     },
     "metadata": {},
     "output_type": "display_data"
    }
   ],
   "source": [
    "# checking the distribution of the 'numVotes' column \n",
    "sns.distplot(imdb['numVotes'][imdb['numVotes']<=3124],bins=30)"
   ]
  },
  {
   "cell_type": "code",
   "execution_count": 23,
   "metadata": {},
   "outputs": [
    {
     "data": {
      "text/plain": [
       "count     417691.00\n",
       "mean        2332.99\n",
       "std        26516.67\n",
       "min            5.00\n",
       "25%           11.00\n",
       "50%           33.00\n",
       "75%          170.00\n",
       "95%         3143.00\n",
       "max      2388982.00\n",
       "Name: numVotes, dtype: float64"
      ]
     },
     "execution_count": 23,
     "metadata": {},
     "output_type": "execute_result"
    }
   ],
   "source": [
    "# some additional statistics\n",
    "\n",
    "imdb['numVotes'].describe(percentiles=[0.25,0.75,0.95]).round(2)"
   ]
  },
  {
   "cell_type": "code",
   "execution_count": 24,
   "metadata": {},
   "outputs": [
    {
     "data": {
      "text/plain": [
       "count    417691.00\n",
       "mean          6.41\n",
       "std           1.45\n",
       "min           1.00\n",
       "25%           5.60\n",
       "50%           6.60\n",
       "75%           7.40\n",
       "95%           8.50\n",
       "max          10.00\n",
       "Name: averageRating, dtype: float64"
      ]
     },
     "execution_count": 24,
     "metadata": {},
     "output_type": "execute_result"
    }
   ],
   "source": [
    "imdb['averageRating'].describe(percentiles=[0.25,0.75,0.95]).round(2)"
   ]
  },
  {
   "cell_type": "code",
   "execution_count": 25,
   "metadata": {},
   "outputs": [
    {
     "data": {
      "text/html": [
       "<div>\n",
       "<style scoped>\n",
       "    .dataframe tbody tr th:only-of-type {\n",
       "        vertical-align: middle;\n",
       "    }\n",
       "\n",
       "    .dataframe tbody tr th {\n",
       "        vertical-align: top;\n",
       "    }\n",
       "\n",
       "    .dataframe thead th {\n",
       "        text-align: right;\n",
       "    }\n",
       "</style>\n",
       "<table border=\"1\" class=\"dataframe\">\n",
       "  <thead>\n",
       "    <tr style=\"text-align: right;\">\n",
       "      <th></th>\n",
       "      <th>isAdult</th>\n",
       "      <th>startYear</th>\n",
       "      <th>averageRating</th>\n",
       "      <th>numVotes</th>\n",
       "    </tr>\n",
       "  </thead>\n",
       "  <tbody>\n",
       "    <tr>\n",
       "      <th>isAdult</th>\n",
       "      <td>1.000000</td>\n",
       "      <td>-0.071484</td>\n",
       "      <td>-0.006562</td>\n",
       "      <td>-0.018703</td>\n",
       "    </tr>\n",
       "    <tr>\n",
       "      <th>startYear</th>\n",
       "      <td>-0.071484</td>\n",
       "      <td>1.000000</td>\n",
       "      <td>0.038104</td>\n",
       "      <td>0.011957</td>\n",
       "    </tr>\n",
       "    <tr>\n",
       "      <th>averageRating</th>\n",
       "      <td>-0.006562</td>\n",
       "      <td>0.038104</td>\n",
       "      <td>1.000000</td>\n",
       "      <td>0.043058</td>\n",
       "    </tr>\n",
       "    <tr>\n",
       "      <th>numVotes</th>\n",
       "      <td>-0.018703</td>\n",
       "      <td>0.011957</td>\n",
       "      <td>0.043058</td>\n",
       "      <td>1.000000</td>\n",
       "    </tr>\n",
       "  </tbody>\n",
       "</table>\n",
       "</div>"
      ],
      "text/plain": [
       "                isAdult  startYear  averageRating  numVotes\n",
       "isAdult        1.000000  -0.071484      -0.006562 -0.018703\n",
       "startYear     -0.071484   1.000000       0.038104  0.011957\n",
       "averageRating -0.006562   0.038104       1.000000  0.043058\n",
       "numVotes      -0.018703   0.011957       0.043058  1.000000"
      ]
     },
     "execution_count": 25,
     "metadata": {},
     "output_type": "execute_result"
    }
   ],
   "source": [
    "# checking the correlation between the columns\n",
    "\n",
    "imdb.corr()"
   ]
  },
  {
   "cell_type": "code",
   "execution_count": 26,
   "metadata": {},
   "outputs": [],
   "source": [
    "# restricting the dataset to only movies that have a minimum of 2500 votes and an average rating of 6.4\n",
    "# this ensures users get quality recommendations\n",
    "\n",
    "imdb = imdb[(imdb['numVotes']>=2500) & (imdb['averageRating']>=6.4)]"
   ]
  },
  {
   "cell_type": "code",
   "execution_count": 27,
   "metadata": {},
   "outputs": [],
   "source": [
    "imdb.reset_index(drop=True,inplace=True)"
   ]
  },
  {
   "cell_type": "code",
   "execution_count": 28,
   "metadata": {},
   "outputs": [
    {
     "data": {
      "text/html": [
       "<div>\n",
       "<style scoped>\n",
       "    .dataframe tbody tr th:only-of-type {\n",
       "        vertical-align: middle;\n",
       "    }\n",
       "\n",
       "    .dataframe tbody tr th {\n",
       "        vertical-align: top;\n",
       "    }\n",
       "\n",
       "    .dataframe thead th {\n",
       "        text-align: right;\n",
       "    }\n",
       "</style>\n",
       "<table border=\"1\" class=\"dataframe\">\n",
       "  <thead>\n",
       "    <tr style=\"text-align: right;\">\n",
       "      <th></th>\n",
       "      <th>tconst</th>\n",
       "      <th>titleType</th>\n",
       "      <th>primaryTitle</th>\n",
       "      <th>originalTitle</th>\n",
       "      <th>isAdult</th>\n",
       "      <th>startYear</th>\n",
       "      <th>endYear</th>\n",
       "      <th>genres</th>\n",
       "      <th>averageRating</th>\n",
       "      <th>numVotes</th>\n",
       "    </tr>\n",
       "  </thead>\n",
       "  <tbody>\n",
       "    <tr>\n",
       "      <th>0</th>\n",
       "      <td>tt0035423</td>\n",
       "      <td>movie</td>\n",
       "      <td>Kate &amp; Leopold</td>\n",
       "      <td>Kate &amp; Leopold</td>\n",
       "      <td>0</td>\n",
       "      <td>2001</td>\n",
       "      <td>\\N</td>\n",
       "      <td>Comedy,Fantasy,Romance</td>\n",
       "      <td>6.4</td>\n",
       "      <td>79778</td>\n",
       "    </tr>\n",
       "    <tr>\n",
       "      <th>1</th>\n",
       "      <td>tt0052698</td>\n",
       "      <td>movie</td>\n",
       "      <td>Classe Tous Risques</td>\n",
       "      <td>Classe tous risques</td>\n",
       "      <td>0</td>\n",
       "      <td>1960</td>\n",
       "      <td>\\N</td>\n",
       "      <td>Crime,Drama,Romance</td>\n",
       "      <td>7.5</td>\n",
       "      <td>3291</td>\n",
       "    </tr>\n",
       "    <tr>\n",
       "      <th>2</th>\n",
       "      <td>tt0052832</td>\n",
       "      <td>movie</td>\n",
       "      <td>The Fugitive Kind</td>\n",
       "      <td>The Fugitive Kind</td>\n",
       "      <td>0</td>\n",
       "      <td>1960</td>\n",
       "      <td>\\N</td>\n",
       "      <td>Drama,Romance</td>\n",
       "      <td>7.1</td>\n",
       "      <td>5687</td>\n",
       "    </tr>\n",
       "    <tr>\n",
       "      <th>3</th>\n",
       "      <td>tt0052997</td>\n",
       "      <td>movie</td>\n",
       "      <td>The League of Gentlemen</td>\n",
       "      <td>The League of Gentlemen</td>\n",
       "      <td>0</td>\n",
       "      <td>1960</td>\n",
       "      <td>\\N</td>\n",
       "      <td>Comedy,Crime,Drama</td>\n",
       "      <td>7.3</td>\n",
       "      <td>4055</td>\n",
       "    </tr>\n",
       "    <tr>\n",
       "      <th>4</th>\n",
       "      <td>tt0053106</td>\n",
       "      <td>movie</td>\n",
       "      <td>Letter Never Sent</td>\n",
       "      <td>Neotpravlennoe pismo</td>\n",
       "      <td>0</td>\n",
       "      <td>1960</td>\n",
       "      <td>\\N</td>\n",
       "      <td>Adventure,Drama</td>\n",
       "      <td>7.9</td>\n",
       "      <td>3204</td>\n",
       "    </tr>\n",
       "  </tbody>\n",
       "</table>\n",
       "</div>"
      ],
      "text/plain": [
       "      tconst titleType             primaryTitle            originalTitle  \\\n",
       "0  tt0035423     movie           Kate & Leopold           Kate & Leopold   \n",
       "1  tt0052698     movie      Classe Tous Risques      Classe tous risques   \n",
       "2  tt0052832     movie        The Fugitive Kind        The Fugitive Kind   \n",
       "3  tt0052997     movie  The League of Gentlemen  The League of Gentlemen   \n",
       "4  tt0053106     movie        Letter Never Sent     Neotpravlennoe pismo   \n",
       "\n",
       "   isAdult  startYear endYear                  genres  averageRating  numVotes  \n",
       "0        0       2001      \\N  Comedy,Fantasy,Romance            6.4     79778  \n",
       "1        0       1960      \\N     Crime,Drama,Romance            7.5      3291  \n",
       "2        0       1960      \\N           Drama,Romance            7.1      5687  \n",
       "3        0       1960      \\N      Comedy,Crime,Drama            7.3      4055  \n",
       "4        0       1960      \\N         Adventure,Drama            7.9      3204  "
      ]
     },
     "execution_count": 28,
     "metadata": {},
     "output_type": "execute_result"
    }
   ],
   "source": [
    "imdb.head()"
   ]
  },
  {
   "cell_type": "code",
   "execution_count": 29,
   "metadata": {},
   "outputs": [],
   "source": [
    "imdb['startYear'] = [year if year == '\\\\N' else int(year) for year in imdb['startYear']]"
   ]
  },
  {
   "cell_type": "code",
   "execution_count": 30,
   "metadata": {},
   "outputs": [],
   "source": [
    "imdb['endYear'] = [year if year == '\\\\N' else int(year) for year in imdb['endYear']]"
   ]
  },
  {
   "cell_type": "code",
   "execution_count": 31,
   "metadata": {},
   "outputs": [],
   "source": [
    "# cleaning up some special characters from the \"primaryTitle\" column\n",
    "# Also sorting the dataframe by the 'primaryTitle' column\n",
    "\n",
    "\n",
    "imdb['primaryTitle'] = imdb['primaryTitle'].apply(lambda x: x.strip(\"'*\"))\n",
    "bool_mask = imdb['primaryTitle'].str[0].str.isalpha()\n",
    "alpha_list = imdb['primaryTitle'][bool_mask].sort_values()\n",
    "non_alpha_list = imdb['primaryTitle'][~bool_mask].sort_values()\n",
    "imdb = imdb.iloc[alpha_list.append(non_alpha_list).index]"
   ]
  },
  {
   "cell_type": "code",
   "execution_count": 32,
   "metadata": {},
   "outputs": [],
   "source": [
    "# changing the dataframe's index to the 'tconst' column\n",
    "\n",
    "imdb.index = imdb['tconst']"
   ]
  },
  {
   "cell_type": "code",
   "execution_count": 33,
   "metadata": {},
   "outputs": [],
   "source": [
    "# categorizing the following categories 'tvSeries', 'tvMovie', 'tvMiniSeries', 'video', 'tvSpecial' to one entity\n",
    "\n",
    "tv_shows = ['tvSeries', 'tvMovie', 'tvMiniSeries', 'video', 'tvSpecial']"
   ]
  },
  {
   "cell_type": "code",
   "execution_count": 34,
   "metadata": {},
   "outputs": [],
   "source": [
    "# splitting movies and tv_shows to different dataframes\n",
    "\n",
    "movie_df = imdb[imdb['titleType'].apply(lambda x: x not in tv_shows)]\n",
    "\n",
    "tv_shows_df = imdb[imdb['titleType'].apply(lambda x: x in tv_shows)]"
   ]
  },
  {
   "cell_type": "code",
   "execution_count": 35,
   "metadata": {},
   "outputs": [],
   "source": [
    "# formatting the titles to include start year and end year if it is a TV show\n",
    "# if it's a movie then formatting it to include the year it was released\n",
    "\n",
    "tv_shows_dict = {k: f\"{t} ({s})\" if s == e else f\"{t} ({s}– )\" if e =='\\\\N' else f\"{t} ({s}–{e})\" for k,t,s,e in tv_shows_df[['primaryTitle','startYear','endYear']].itertuples()}\n",
    "\n",
    "movie_dict = {k: f\"{t} ({s})\"  for k,t,s,e in movie_df[['primaryTitle','startYear','endYear']].itertuples()}"
   ]
  },
  {
   "cell_type": "code",
   "execution_count": 36,
   "metadata": {},
   "outputs": [],
   "source": [
    "# merging them back together\n",
    "\n",
    "sortedTitle = pd.Series(tv_shows_dict).append(pd.Series(movie_dict))"
   ]
  },
  {
   "cell_type": "code",
   "execution_count": 37,
   "metadata": {},
   "outputs": [],
   "source": [
    "imdb.reset_index(drop=True, inplace=True)"
   ]
  },
  {
   "cell_type": "code",
   "execution_count": 38,
   "metadata": {},
   "outputs": [],
   "source": [
    "sortedTitle = pd.DataFrame(sortedTitle).reset_index().rename({'index':'tconst',0:'sortedTitle'},axis=1)"
   ]
  },
  {
   "cell_type": "code",
   "execution_count": 39,
   "metadata": {},
   "outputs": [
    {
     "data": {
      "text/html": [
       "<div>\n",
       "<style scoped>\n",
       "    .dataframe tbody tr th:only-of-type {\n",
       "        vertical-align: middle;\n",
       "    }\n",
       "\n",
       "    .dataframe tbody tr th {\n",
       "        vertical-align: top;\n",
       "    }\n",
       "\n",
       "    .dataframe thead th {\n",
       "        text-align: right;\n",
       "    }\n",
       "</style>\n",
       "<table border=\"1\" class=\"dataframe\">\n",
       "  <thead>\n",
       "    <tr style=\"text-align: right;\">\n",
       "      <th></th>\n",
       "      <th>tconst</th>\n",
       "      <th>sortedTitle</th>\n",
       "    </tr>\n",
       "  </thead>\n",
       "  <tbody>\n",
       "    <tr>\n",
       "      <th>0</th>\n",
       "      <td>tt0101049</td>\n",
       "      <td>A Bit of Fry and Laurie (1987–1995)</td>\n",
       "    </tr>\n",
       "    <tr>\n",
       "      <th>1</th>\n",
       "      <td>tt0385567</td>\n",
       "      <td>A Boyfriend for Christmas (2004– )</td>\n",
       "    </tr>\n",
       "    <tr>\n",
       "      <th>2</th>\n",
       "      <td>tt2415112</td>\n",
       "      <td>A Bride for Christmas (2012– )</td>\n",
       "    </tr>\n",
       "    <tr>\n",
       "      <th>3</th>\n",
       "      <td>tt0059026</td>\n",
       "      <td>A Charlie Brown Christmas (1965– )</td>\n",
       "    </tr>\n",
       "    <tr>\n",
       "      <th>4</th>\n",
       "      <td>tt0068359</td>\n",
       "      <td>A Charlie Brown Thanksgiving (1973– )</td>\n",
       "    </tr>\n",
       "  </tbody>\n",
       "</table>\n",
       "</div>"
      ],
      "text/plain": [
       "      tconst                            sortedTitle\n",
       "0  tt0101049    A Bit of Fry and Laurie (1987–1995)\n",
       "1  tt0385567     A Boyfriend for Christmas (2004– )\n",
       "2  tt2415112         A Bride for Christmas (2012– )\n",
       "3  tt0059026     A Charlie Brown Christmas (1965– )\n",
       "4  tt0068359  A Charlie Brown Thanksgiving (1973– )"
      ]
     },
     "execution_count": 39,
     "metadata": {},
     "output_type": "execute_result"
    }
   ],
   "source": [
    "sortedTitle.head()"
   ]
  },
  {
   "cell_type": "code",
   "execution_count": 40,
   "metadata": {},
   "outputs": [],
   "source": [
    "imdb = imdb.merge(sortedTitle, on='tconst')"
   ]
  },
  {
   "cell_type": "code",
   "execution_count": 41,
   "metadata": {},
   "outputs": [],
   "source": [
    "imdb['genres'] = [genre.replace(',', ' ') for genre in imdb['genres']]"
   ]
  },
  {
   "cell_type": "code",
   "execution_count": 42,
   "metadata": {},
   "outputs": [],
   "source": [
    "imdb['imdb_url'] = imdb['tconst'].apply(lambda titleId: f'https://www.imdb.com/title/{titleId}/')"
   ]
  },
  {
   "cell_type": "code",
   "execution_count": 43,
   "metadata": {},
   "outputs": [],
   "source": [
    "imdb.reset_index(drop=True, inplace=True)"
   ]
  },
  {
   "cell_type": "code",
   "execution_count": 44,
   "metadata": {},
   "outputs": [
    {
     "data": {
      "text/html": [
       "<div>\n",
       "<style scoped>\n",
       "    .dataframe tbody tr th:only-of-type {\n",
       "        vertical-align: middle;\n",
       "    }\n",
       "\n",
       "    .dataframe tbody tr th {\n",
       "        vertical-align: top;\n",
       "    }\n",
       "\n",
       "    .dataframe thead th {\n",
       "        text-align: right;\n",
       "    }\n",
       "</style>\n",
       "<table border=\"1\" class=\"dataframe\">\n",
       "  <thead>\n",
       "    <tr style=\"text-align: right;\">\n",
       "      <th></th>\n",
       "      <th>tconst</th>\n",
       "      <th>titleType</th>\n",
       "      <th>primaryTitle</th>\n",
       "      <th>originalTitle</th>\n",
       "      <th>isAdult</th>\n",
       "      <th>startYear</th>\n",
       "      <th>endYear</th>\n",
       "      <th>genres</th>\n",
       "      <th>averageRating</th>\n",
       "      <th>numVotes</th>\n",
       "      <th>sortedTitle</th>\n",
       "      <th>imdb_url</th>\n",
       "    </tr>\n",
       "  </thead>\n",
       "  <tbody>\n",
       "    <tr>\n",
       "      <th>0</th>\n",
       "      <td>tt1509787</td>\n",
       "      <td>movie</td>\n",
       "      <td>A Bag of Hammers</td>\n",
       "      <td>A Bag of Hammers</td>\n",
       "      <td>0</td>\n",
       "      <td>2011</td>\n",
       "      <td>\\N</td>\n",
       "      <td>Comedy Drama</td>\n",
       "      <td>6.6</td>\n",
       "      <td>2887</td>\n",
       "      <td>A Bag of Hammers (2011)</td>\n",
       "      <td>https://www.imdb.com/title/tt1509787/</td>\n",
       "    </tr>\n",
       "    <tr>\n",
       "      <th>1</th>\n",
       "      <td>tt5091612</td>\n",
       "      <td>movie</td>\n",
       "      <td>A Bag of Marbles</td>\n",
       "      <td>Un sac de billes</td>\n",
       "      <td>0</td>\n",
       "      <td>2017</td>\n",
       "      <td>\\N</td>\n",
       "      <td>Biography Drama History</td>\n",
       "      <td>7.3</td>\n",
       "      <td>5055</td>\n",
       "      <td>A Bag of Marbles (2017)</td>\n",
       "      <td>https://www.imdb.com/title/tt5091612/</td>\n",
       "    </tr>\n",
       "    <tr>\n",
       "      <th>2</th>\n",
       "      <td>tt2064713</td>\n",
       "      <td>movie</td>\n",
       "      <td>A Band Called Death</td>\n",
       "      <td>A Band Called Death</td>\n",
       "      <td>0</td>\n",
       "      <td>2012</td>\n",
       "      <td>\\N</td>\n",
       "      <td>Biography Documentary Music</td>\n",
       "      <td>7.5</td>\n",
       "      <td>3615</td>\n",
       "      <td>A Band Called Death (2012)</td>\n",
       "      <td>https://www.imdb.com/title/tt2064713/</td>\n",
       "    </tr>\n",
       "    <tr>\n",
       "      <th>3</th>\n",
       "      <td>tt0067656</td>\n",
       "      <td>movie</td>\n",
       "      <td>A Bay of Blood</td>\n",
       "      <td>Ecologia del delitto</td>\n",
       "      <td>0</td>\n",
       "      <td>1971</td>\n",
       "      <td>\\N</td>\n",
       "      <td>Horror Mystery Thriller</td>\n",
       "      <td>6.6</td>\n",
       "      <td>9619</td>\n",
       "      <td>A Bay of Blood (1971)</td>\n",
       "      <td>https://www.imdb.com/title/tt0067656/</td>\n",
       "    </tr>\n",
       "    <tr>\n",
       "      <th>4</th>\n",
       "      <td>tt3224458</td>\n",
       "      <td>movie</td>\n",
       "      <td>A Beautiful Day in the Neighborhood</td>\n",
       "      <td>A Beautiful Day in the Neighborhood</td>\n",
       "      <td>0</td>\n",
       "      <td>2019</td>\n",
       "      <td>\\N</td>\n",
       "      <td>Biography Drama</td>\n",
       "      <td>7.3</td>\n",
       "      <td>65632</td>\n",
       "      <td>A Beautiful Day in the Neighborhood (2019)</td>\n",
       "      <td>https://www.imdb.com/title/tt3224458/</td>\n",
       "    </tr>\n",
       "  </tbody>\n",
       "</table>\n",
       "</div>"
      ],
      "text/plain": [
       "      tconst titleType                         primaryTitle  \\\n",
       "0  tt1509787     movie                     A Bag of Hammers   \n",
       "1  tt5091612     movie                     A Bag of Marbles   \n",
       "2  tt2064713     movie                  A Band Called Death   \n",
       "3  tt0067656     movie                       A Bay of Blood   \n",
       "4  tt3224458     movie  A Beautiful Day in the Neighborhood   \n",
       "\n",
       "                         originalTitle  isAdult  startYear endYear  \\\n",
       "0                     A Bag of Hammers        0       2011      \\N   \n",
       "1                     Un sac de billes        0       2017      \\N   \n",
       "2                  A Band Called Death        0       2012      \\N   \n",
       "3                 Ecologia del delitto        0       1971      \\N   \n",
       "4  A Beautiful Day in the Neighborhood        0       2019      \\N   \n",
       "\n",
       "                        genres  averageRating  numVotes  \\\n",
       "0                 Comedy Drama            6.6      2887   \n",
       "1      Biography Drama History            7.3      5055   \n",
       "2  Biography Documentary Music            7.5      3615   \n",
       "3      Horror Mystery Thriller            6.6      9619   \n",
       "4              Biography Drama            7.3     65632   \n",
       "\n",
       "                                  sortedTitle  \\\n",
       "0                     A Bag of Hammers (2011)   \n",
       "1                     A Bag of Marbles (2017)   \n",
       "2                  A Band Called Death (2012)   \n",
       "3                       A Bay of Blood (1971)   \n",
       "4  A Beautiful Day in the Neighborhood (2019)   \n",
       "\n",
       "                                imdb_url  \n",
       "0  https://www.imdb.com/title/tt1509787/  \n",
       "1  https://www.imdb.com/title/tt5091612/  \n",
       "2  https://www.imdb.com/title/tt2064713/  \n",
       "3  https://www.imdb.com/title/tt0067656/  \n",
       "4  https://www.imdb.com/title/tt3224458/  "
      ]
     },
     "execution_count": 44,
     "metadata": {},
     "output_type": "execute_result"
    }
   ],
   "source": [
    "imdb.head()"
   ]
  },
  {
   "cell_type": "code",
   "execution_count": 45,
   "metadata": {},
   "outputs": [],
   "source": [
    "# saving the result to a csv file\n",
    "\n",
    "imdb.to_csv('imdb_sampled.csv', index=False)"
   ]
  },
  {
   "cell_type": "markdown",
   "metadata": {},
   "source": [
    "<h3> Modelling"
   ]
  },
  {
   "cell_type": "markdown",
   "metadata": {},
   "source": [
    "<h2> Content Based Filtering </h2>"
   ]
  },
  {
   "cell_type": "code",
   "execution_count": 46,
   "metadata": {},
   "outputs": [],
   "source": [
    "imdb = pd.read_csv('imdb_sampled.csv')"
   ]
  },
  {
   "cell_type": "code",
   "execution_count": 47,
   "metadata": {},
   "outputs": [
    {
     "data": {
      "text/html": [
       "<div>\n",
       "<style scoped>\n",
       "    .dataframe tbody tr th:only-of-type {\n",
       "        vertical-align: middle;\n",
       "    }\n",
       "\n",
       "    .dataframe tbody tr th {\n",
       "        vertical-align: top;\n",
       "    }\n",
       "\n",
       "    .dataframe thead th {\n",
       "        text-align: right;\n",
       "    }\n",
       "</style>\n",
       "<table border=\"1\" class=\"dataframe\">\n",
       "  <thead>\n",
       "    <tr style=\"text-align: right;\">\n",
       "      <th></th>\n",
       "      <th>tconst</th>\n",
       "      <th>titleType</th>\n",
       "      <th>primaryTitle</th>\n",
       "      <th>originalTitle</th>\n",
       "      <th>isAdult</th>\n",
       "      <th>startYear</th>\n",
       "      <th>endYear</th>\n",
       "      <th>genres</th>\n",
       "      <th>averageRating</th>\n",
       "      <th>numVotes</th>\n",
       "      <th>sortedTitle</th>\n",
       "      <th>imdb_url</th>\n",
       "    </tr>\n",
       "  </thead>\n",
       "  <tbody>\n",
       "    <tr>\n",
       "      <th>0</th>\n",
       "      <td>tt1509787</td>\n",
       "      <td>movie</td>\n",
       "      <td>A Bag of Hammers</td>\n",
       "      <td>A Bag of Hammers</td>\n",
       "      <td>0</td>\n",
       "      <td>2011</td>\n",
       "      <td>\\N</td>\n",
       "      <td>Comedy Drama</td>\n",
       "      <td>6.6</td>\n",
       "      <td>2887</td>\n",
       "      <td>A Bag of Hammers (2011)</td>\n",
       "      <td>https://www.imdb.com/title/tt1509787/</td>\n",
       "    </tr>\n",
       "    <tr>\n",
       "      <th>1</th>\n",
       "      <td>tt5091612</td>\n",
       "      <td>movie</td>\n",
       "      <td>A Bag of Marbles</td>\n",
       "      <td>Un sac de billes</td>\n",
       "      <td>0</td>\n",
       "      <td>2017</td>\n",
       "      <td>\\N</td>\n",
       "      <td>Biography Drama History</td>\n",
       "      <td>7.3</td>\n",
       "      <td>5055</td>\n",
       "      <td>A Bag of Marbles (2017)</td>\n",
       "      <td>https://www.imdb.com/title/tt5091612/</td>\n",
       "    </tr>\n",
       "    <tr>\n",
       "      <th>2</th>\n",
       "      <td>tt2064713</td>\n",
       "      <td>movie</td>\n",
       "      <td>A Band Called Death</td>\n",
       "      <td>A Band Called Death</td>\n",
       "      <td>0</td>\n",
       "      <td>2012</td>\n",
       "      <td>\\N</td>\n",
       "      <td>Biography Documentary Music</td>\n",
       "      <td>7.5</td>\n",
       "      <td>3615</td>\n",
       "      <td>A Band Called Death (2012)</td>\n",
       "      <td>https://www.imdb.com/title/tt2064713/</td>\n",
       "    </tr>\n",
       "    <tr>\n",
       "      <th>3</th>\n",
       "      <td>tt0067656</td>\n",
       "      <td>movie</td>\n",
       "      <td>A Bay of Blood</td>\n",
       "      <td>Ecologia del delitto</td>\n",
       "      <td>0</td>\n",
       "      <td>1971</td>\n",
       "      <td>\\N</td>\n",
       "      <td>Horror Mystery Thriller</td>\n",
       "      <td>6.6</td>\n",
       "      <td>9619</td>\n",
       "      <td>A Bay of Blood (1971)</td>\n",
       "      <td>https://www.imdb.com/title/tt0067656/</td>\n",
       "    </tr>\n",
       "    <tr>\n",
       "      <th>4</th>\n",
       "      <td>tt3224458</td>\n",
       "      <td>movie</td>\n",
       "      <td>A Beautiful Day in the Neighborhood</td>\n",
       "      <td>A Beautiful Day in the Neighborhood</td>\n",
       "      <td>0</td>\n",
       "      <td>2019</td>\n",
       "      <td>\\N</td>\n",
       "      <td>Biography Drama</td>\n",
       "      <td>7.3</td>\n",
       "      <td>65632</td>\n",
       "      <td>A Beautiful Day in the Neighborhood (2019)</td>\n",
       "      <td>https://www.imdb.com/title/tt3224458/</td>\n",
       "    </tr>\n",
       "  </tbody>\n",
       "</table>\n",
       "</div>"
      ],
      "text/plain": [
       "      tconst titleType                         primaryTitle  \\\n",
       "0  tt1509787     movie                     A Bag of Hammers   \n",
       "1  tt5091612     movie                     A Bag of Marbles   \n",
       "2  tt2064713     movie                  A Band Called Death   \n",
       "3  tt0067656     movie                       A Bay of Blood   \n",
       "4  tt3224458     movie  A Beautiful Day in the Neighborhood   \n",
       "\n",
       "                         originalTitle  isAdult  startYear endYear  \\\n",
       "0                     A Bag of Hammers        0       2011      \\N   \n",
       "1                     Un sac de billes        0       2017      \\N   \n",
       "2                  A Band Called Death        0       2012      \\N   \n",
       "3                 Ecologia del delitto        0       1971      \\N   \n",
       "4  A Beautiful Day in the Neighborhood        0       2019      \\N   \n",
       "\n",
       "                        genres  averageRating  numVotes  \\\n",
       "0                 Comedy Drama            6.6      2887   \n",
       "1      Biography Drama History            7.3      5055   \n",
       "2  Biography Documentary Music            7.5      3615   \n",
       "3      Horror Mystery Thriller            6.6      9619   \n",
       "4              Biography Drama            7.3     65632   \n",
       "\n",
       "                                  sortedTitle  \\\n",
       "0                     A Bag of Hammers (2011)   \n",
       "1                     A Bag of Marbles (2017)   \n",
       "2                  A Band Called Death (2012)   \n",
       "3                       A Bay of Blood (1971)   \n",
       "4  A Beautiful Day in the Neighborhood (2019)   \n",
       "\n",
       "                                imdb_url  \n",
       "0  https://www.imdb.com/title/tt1509787/  \n",
       "1  https://www.imdb.com/title/tt5091612/  \n",
       "2  https://www.imdb.com/title/tt2064713/  \n",
       "3  https://www.imdb.com/title/tt0067656/  \n",
       "4  https://www.imdb.com/title/tt3224458/  "
      ]
     },
     "execution_count": 47,
     "metadata": {},
     "output_type": "execute_result"
    }
   ],
   "source": [
    "imdb.head()"
   ]
  },
  {
   "cell_type": "code",
   "execution_count": 48,
   "metadata": {},
   "outputs": [],
   "source": [
    "# one-hot encoding the 'genres' column\n",
    "\n",
    "from sklearn.feature_extraction.text import CountVectorizer"
   ]
  },
  {
   "cell_type": "code",
   "execution_count": 49,
   "metadata": {},
   "outputs": [],
   "source": [
    "cv = CountVectorizer(dtype=np.uint8)"
   ]
  },
  {
   "cell_type": "code",
   "execution_count": 50,
   "metadata": {},
   "outputs": [],
   "source": [
    "dtm = cv.fit_transform(imdb['genres']).toarray()"
   ]
  },
  {
   "cell_type": "code",
   "execution_count": 51,
   "metadata": {},
   "outputs": [
    {
     "data": {
      "text/plain": [
       "(15131, 30)"
      ]
     },
     "execution_count": 51,
     "metadata": {},
     "output_type": "execute_result"
    }
   ],
   "source": [
    "dtm.shape"
   ]
  },
  {
   "cell_type": "code",
   "execution_count": 52,
   "metadata": {},
   "outputs": [
    {
     "data": {
      "text/plain": [
       "array([[0, 0, 0, 0, 0, 1, 0, 0, 1, 0, 0, 0, 0, 0, 0, 0, 0, 0, 0, 0, 0, 0,\n",
       "        0, 0, 0, 0, 0, 0, 0, 0],\n",
       "       [0, 0, 0, 0, 1, 0, 0, 0, 1, 0, 0, 0, 0, 1, 0, 0, 0, 0, 0, 0, 0, 0,\n",
       "        0, 0, 0, 0, 0, 0, 0, 0],\n",
       "       [0, 0, 0, 0, 1, 0, 0, 1, 0, 0, 0, 0, 0, 0, 0, 1, 0, 0, 0, 0, 0, 0,\n",
       "        0, 0, 0, 0, 0, 0, 0, 0],\n",
       "       [0, 0, 0, 0, 0, 0, 0, 0, 0, 0, 0, 0, 0, 0, 1, 0, 0, 1, 0, 0, 0, 0,\n",
       "        0, 0, 0, 0, 1, 0, 0, 0],\n",
       "       [0, 0, 0, 0, 1, 0, 0, 0, 1, 0, 0, 0, 0, 0, 0, 0, 0, 0, 0, 0, 0, 0,\n",
       "        0, 0, 0, 0, 0, 0, 0, 0]], dtype=uint8)"
      ]
     },
     "execution_count": 52,
     "metadata": {},
     "output_type": "execute_result"
    }
   ],
   "source": [
    "dtm[0:5]"
   ]
  },
  {
   "cell_type": "code",
   "execution_count": 53,
   "metadata": {},
   "outputs": [],
   "source": [
    "# concatenating the above result with the 'averageRating' column to create a feature matrix\n",
    "\n",
    "feature_matrix = np.concatenate((dtm, np.array(imdb['averageRating']).reshape(-1,1)),axis=1)"
   ]
  },
  {
   "cell_type": "code",
   "execution_count": 54,
   "metadata": {},
   "outputs": [],
   "source": [
    "from sklearn.preprocessing import MinMaxScaler"
   ]
  },
  {
   "cell_type": "code",
   "execution_count": 55,
   "metadata": {},
   "outputs": [],
   "source": [
    "MMS = MinMaxScaler()"
   ]
  },
  {
   "cell_type": "code",
   "execution_count": 56,
   "metadata": {},
   "outputs": [],
   "source": [
    "numVotes = np.array(imdb['numVotes'])"
   ]
  },
  {
   "cell_type": "code",
   "execution_count": 57,
   "metadata": {},
   "outputs": [],
   "source": [
    "numVotes = numVotes.reshape(-1,1)"
   ]
  },
  {
   "cell_type": "code",
   "execution_count": 58,
   "metadata": {},
   "outputs": [],
   "source": [
    "# scaling the 'numVotes' column using MinMaxScaler\n",
    "\n",
    "numVotes = MMS.fit_transform(numVotes)"
   ]
  },
  {
   "cell_type": "code",
   "execution_count": 59,
   "metadata": {},
   "outputs": [],
   "source": [
    "# appending the above result to the feature matrix\n",
    "\n",
    "feature_matrix = np.concatenate((feature_matrix,numVotes),axis=1)"
   ]
  },
  {
   "cell_type": "code",
   "execution_count": 60,
   "metadata": {},
   "outputs": [],
   "source": [
    "from sklearn.metrics.pairwise import cosine_similarity"
   ]
  },
  {
   "cell_type": "code",
   "execution_count": 61,
   "metadata": {},
   "outputs": [],
   "source": [
    "# building a similarity matrix using cosine similarity metric\n",
    "\n",
    "similarities = cosine_similarity(feature_matrix,dense_output=False)"
   ]
  },
  {
   "cell_type": "code",
   "execution_count": 62,
   "metadata": {},
   "outputs": [
    {
     "data": {
      "text/plain": [
       "(15131, 15131)"
      ]
     },
     "execution_count": 62,
     "metadata": {},
     "output_type": "execute_result"
    }
   ],
   "source": [
    "similarities.shape"
   ]
  },
  {
   "cell_type": "code",
   "execution_count": 63,
   "metadata": {},
   "outputs": [],
   "source": [
    "def get_recommendations(title):\n",
    "    \"\"\"\n",
    "    Takes a string as an input and returns a DataFrame of 10 similar items\n",
    "    \"\"\"\n",
    "    try:\n",
    "        title = title.lower()\n",
    "        tv_shows = ['tvSeries', 'tvMovie', 'tvMiniSeries', 'video', 'tvSpecial']\n",
    "        try:\n",
    "            idx = imdb[imdb['sortedTitle'].apply(lambda x: x.lower())==title].index[0]\n",
    "        except:\n",
    "            idx = imdb[imdb['primaryTitle'].apply(lambda x: x.lower())==title].index[0]\n",
    "             \n",
    "        recommendations = imdb['sortedTitle'].iloc[similarities[idx].argsort()[::-1]][0:500] # slicing only 500 values for improved performance (process explained below)\n",
    "\n",
    "        if imdb.iloc[idx]['titleType'] != 'movie':\n",
    "            tv_recommendations = {rec:[imdb['tconst'].iloc[rec],imdb['sortedTitle'].iloc[rec]] for rec in recommendations.index if imdb['titleType'].iloc[rec] in tv_shows}\n",
    "            temp =  pd.DataFrame(tv_recommendations).transpose().iloc[1:11]\n",
    "            temp.rename(columns={0:'tconst',1:'title'},inplace=True)\n",
    "            temp.reset_index(drop=True, inplace=True)\n",
    "            return temp.drop('tconst',axis=1)\n",
    "\n",
    "        else:\n",
    "            movie_recommendations = {rec:[imdb['tconst'].iloc[rec], imdb['sortedTitle'].iloc[rec]] for rec in recommendations.index if imdb['titleType'].iloc[rec] == 'movie'}\n",
    "            temp =  pd.DataFrame(movie_recommendations).transpose().iloc[1:11]\n",
    "            temp.rename(columns={0:'tconst',1:'title'},inplace=True)\n",
    "            temp.reset_index(drop=True, inplace=True)\n",
    "            return temp.drop('tconst',axis=1)\n",
    "    except:\n",
    "        return None"
   ]
  },
  {
   "cell_type": "code",
   "execution_count": 64,
   "metadata": {},
   "outputs": [
    {
     "data": {
      "text/html": [
       "<div>\n",
       "<style scoped>\n",
       "    .dataframe tbody tr th:only-of-type {\n",
       "        vertical-align: middle;\n",
       "    }\n",
       "\n",
       "    .dataframe tbody tr th {\n",
       "        vertical-align: top;\n",
       "    }\n",
       "\n",
       "    .dataframe thead th {\n",
       "        text-align: right;\n",
       "    }\n",
       "</style>\n",
       "<table border=\"1\" class=\"dataframe\">\n",
       "  <thead>\n",
       "    <tr style=\"text-align: right;\">\n",
       "      <th></th>\n",
       "      <th>title</th>\n",
       "    </tr>\n",
       "  </thead>\n",
       "  <tbody>\n",
       "    <tr>\n",
       "      <th>0</th>\n",
       "      <td>The Martian (2015)</td>\n",
       "    </tr>\n",
       "    <tr>\n",
       "      <th>1</th>\n",
       "      <td>Children of Men (2006)</td>\n",
       "    </tr>\n",
       "    <tr>\n",
       "      <th>2</th>\n",
       "      <td>Chronicle (2012)</td>\n",
       "    </tr>\n",
       "    <tr>\n",
       "      <th>3</th>\n",
       "      <td>Time After Time (1979)</td>\n",
       "    </tr>\n",
       "    <tr>\n",
       "      <th>4</th>\n",
       "      <td>2001: A Space Odyssey (1968)</td>\n",
       "    </tr>\n",
       "    <tr>\n",
       "      <th>5</th>\n",
       "      <td>Arrival (2016)</td>\n",
       "    </tr>\n",
       "    <tr>\n",
       "      <th>6</th>\n",
       "      <td>Brazil (1985)</td>\n",
       "    </tr>\n",
       "    <tr>\n",
       "      <th>7</th>\n",
       "      <td>Planet of the Apes (1968)</td>\n",
       "    </tr>\n",
       "    <tr>\n",
       "      <th>8</th>\n",
       "      <td>A.I. Artificial Intelligence (2001)</td>\n",
       "    </tr>\n",
       "    <tr>\n",
       "      <th>9</th>\n",
       "      <td>Close Encounters of the Third Kind (1977)</td>\n",
       "    </tr>\n",
       "  </tbody>\n",
       "</table>\n",
       "</div>"
      ],
      "text/plain": [
       "                                       title\n",
       "0                         The Martian (2015)\n",
       "1                     Children of Men (2006)\n",
       "2                           Chronicle (2012)\n",
       "3                     Time After Time (1979)\n",
       "4               2001: A Space Odyssey (1968)\n",
       "5                             Arrival (2016)\n",
       "6                              Brazil (1985)\n",
       "7                  Planet of the Apes (1968)\n",
       "8        A.I. Artificial Intelligence (2001)\n",
       "9  Close Encounters of the Third Kind (1977)"
      ]
     },
     "execution_count": 64,
     "metadata": {},
     "output_type": "execute_result"
    }
   ],
   "source": [
    "get_recommendations('Interstellar')"
   ]
  },
  {
   "cell_type": "markdown",
   "metadata": {},
   "source": [
    "<h2> Collaborative filtering </h2>"
   ]
  },
  {
   "cell_type": "markdown",
   "metadata": {},
   "source": [
    "<h4> Read data from the Movielens dataset </h4>\n",
    "For more info about this dataset visit: <a href=https://grouplens.org/datasets/movielens/100k/> https://grouplens.org/datasets/movielens/100k/ </a>"
   ]
  },
  {
   "cell_type": "code",
   "execution_count": 65,
   "metadata": {},
   "outputs": [],
   "source": [
    "column_names = ['user_id', 'item_id', 'rating', 'timestamp']\n",
    "df = pd.read_csv('u.data', sep='\\t', names=column_names)"
   ]
  },
  {
   "cell_type": "code",
   "execution_count": 66,
   "metadata": {},
   "outputs": [
    {
     "data": {
      "text/html": [
       "<div>\n",
       "<style scoped>\n",
       "    .dataframe tbody tr th:only-of-type {\n",
       "        vertical-align: middle;\n",
       "    }\n",
       "\n",
       "    .dataframe tbody tr th {\n",
       "        vertical-align: top;\n",
       "    }\n",
       "\n",
       "    .dataframe thead th {\n",
       "        text-align: right;\n",
       "    }\n",
       "</style>\n",
       "<table border=\"1\" class=\"dataframe\">\n",
       "  <thead>\n",
       "    <tr style=\"text-align: right;\">\n",
       "      <th></th>\n",
       "      <th>user_id</th>\n",
       "      <th>item_id</th>\n",
       "      <th>rating</th>\n",
       "      <th>timestamp</th>\n",
       "    </tr>\n",
       "  </thead>\n",
       "  <tbody>\n",
       "    <tr>\n",
       "      <th>0</th>\n",
       "      <td>0</td>\n",
       "      <td>50</td>\n",
       "      <td>5</td>\n",
       "      <td>881250949</td>\n",
       "    </tr>\n",
       "    <tr>\n",
       "      <th>1</th>\n",
       "      <td>0</td>\n",
       "      <td>172</td>\n",
       "      <td>5</td>\n",
       "      <td>881250949</td>\n",
       "    </tr>\n",
       "    <tr>\n",
       "      <th>2</th>\n",
       "      <td>0</td>\n",
       "      <td>133</td>\n",
       "      <td>1</td>\n",
       "      <td>881250949</td>\n",
       "    </tr>\n",
       "    <tr>\n",
       "      <th>3</th>\n",
       "      <td>196</td>\n",
       "      <td>242</td>\n",
       "      <td>3</td>\n",
       "      <td>881250949</td>\n",
       "    </tr>\n",
       "    <tr>\n",
       "      <th>4</th>\n",
       "      <td>186</td>\n",
       "      <td>302</td>\n",
       "      <td>3</td>\n",
       "      <td>891717742</td>\n",
       "    </tr>\n",
       "  </tbody>\n",
       "</table>\n",
       "</div>"
      ],
      "text/plain": [
       "   user_id  item_id  rating  timestamp\n",
       "0        0       50       5  881250949\n",
       "1        0      172       5  881250949\n",
       "2        0      133       1  881250949\n",
       "3      196      242       3  881250949\n",
       "4      186      302       3  891717742"
      ]
     },
     "execution_count": 66,
     "metadata": {},
     "output_type": "execute_result"
    }
   ],
   "source": [
    "df.head()"
   ]
  },
  {
   "cell_type": "markdown",
   "metadata": {},
   "source": [
    "Note how we only have the item_id, not the movie name. We can use the Movie_ID_Titles csv file to grab the movie names and merge it with this dataframe:"
   ]
  },
  {
   "cell_type": "code",
   "execution_count": 67,
   "metadata": {},
   "outputs": [
    {
     "data": {
      "text/html": [
       "<div>\n",
       "<style scoped>\n",
       "    .dataframe tbody tr th:only-of-type {\n",
       "        vertical-align: middle;\n",
       "    }\n",
       "\n",
       "    .dataframe tbody tr th {\n",
       "        vertical-align: top;\n",
       "    }\n",
       "\n",
       "    .dataframe thead th {\n",
       "        text-align: right;\n",
       "    }\n",
       "</style>\n",
       "<table border=\"1\" class=\"dataframe\">\n",
       "  <thead>\n",
       "    <tr style=\"text-align: right;\">\n",
       "      <th></th>\n",
       "      <th>item_id</th>\n",
       "      <th>title</th>\n",
       "    </tr>\n",
       "  </thead>\n",
       "  <tbody>\n",
       "    <tr>\n",
       "      <th>0</th>\n",
       "      <td>1</td>\n",
       "      <td>Toy Story (1995)</td>\n",
       "    </tr>\n",
       "    <tr>\n",
       "      <th>1</th>\n",
       "      <td>2</td>\n",
       "      <td>GoldenEye (1995)</td>\n",
       "    </tr>\n",
       "    <tr>\n",
       "      <th>2</th>\n",
       "      <td>3</td>\n",
       "      <td>Four Rooms (1995)</td>\n",
       "    </tr>\n",
       "    <tr>\n",
       "      <th>3</th>\n",
       "      <td>4</td>\n",
       "      <td>Get Shorty (1995)</td>\n",
       "    </tr>\n",
       "    <tr>\n",
       "      <th>4</th>\n",
       "      <td>5</td>\n",
       "      <td>Copycat (1995)</td>\n",
       "    </tr>\n",
       "  </tbody>\n",
       "</table>\n",
       "</div>"
      ],
      "text/plain": [
       "   item_id              title\n",
       "0        1   Toy Story (1995)\n",
       "1        2   GoldenEye (1995)\n",
       "2        3  Four Rooms (1995)\n",
       "3        4  Get Shorty (1995)\n",
       "4        5     Copycat (1995)"
      ]
     },
     "execution_count": 67,
     "metadata": {},
     "output_type": "execute_result"
    }
   ],
   "source": [
    "movie_titles = pd.read_csv(\"Movie_Id_Titles\")\n",
    "movie_titles.head()"
   ]
  },
  {
   "cell_type": "code",
   "execution_count": 68,
   "metadata": {},
   "outputs": [
    {
     "data": {
      "text/html": [
       "<div>\n",
       "<style scoped>\n",
       "    .dataframe tbody tr th:only-of-type {\n",
       "        vertical-align: middle;\n",
       "    }\n",
       "\n",
       "    .dataframe tbody tr th {\n",
       "        vertical-align: top;\n",
       "    }\n",
       "\n",
       "    .dataframe thead th {\n",
       "        text-align: right;\n",
       "    }\n",
       "</style>\n",
       "<table border=\"1\" class=\"dataframe\">\n",
       "  <thead>\n",
       "    <tr style=\"text-align: right;\">\n",
       "      <th></th>\n",
       "      <th>user_id</th>\n",
       "      <th>item_id</th>\n",
       "      <th>rating</th>\n",
       "      <th>timestamp</th>\n",
       "      <th>title</th>\n",
       "    </tr>\n",
       "  </thead>\n",
       "  <tbody>\n",
       "    <tr>\n",
       "      <th>0</th>\n",
       "      <td>0</td>\n",
       "      <td>50</td>\n",
       "      <td>5</td>\n",
       "      <td>881250949</td>\n",
       "      <td>Star Wars (1977)</td>\n",
       "    </tr>\n",
       "    <tr>\n",
       "      <th>1</th>\n",
       "      <td>290</td>\n",
       "      <td>50</td>\n",
       "      <td>5</td>\n",
       "      <td>880473582</td>\n",
       "      <td>Star Wars (1977)</td>\n",
       "    </tr>\n",
       "    <tr>\n",
       "      <th>2</th>\n",
       "      <td>79</td>\n",
       "      <td>50</td>\n",
       "      <td>4</td>\n",
       "      <td>891271545</td>\n",
       "      <td>Star Wars (1977)</td>\n",
       "    </tr>\n",
       "    <tr>\n",
       "      <th>3</th>\n",
       "      <td>2</td>\n",
       "      <td>50</td>\n",
       "      <td>5</td>\n",
       "      <td>888552084</td>\n",
       "      <td>Star Wars (1977)</td>\n",
       "    </tr>\n",
       "    <tr>\n",
       "      <th>4</th>\n",
       "      <td>8</td>\n",
       "      <td>50</td>\n",
       "      <td>5</td>\n",
       "      <td>879362124</td>\n",
       "      <td>Star Wars (1977)</td>\n",
       "    </tr>\n",
       "  </tbody>\n",
       "</table>\n",
       "</div>"
      ],
      "text/plain": [
       "   user_id  item_id  rating  timestamp             title\n",
       "0        0       50       5  881250949  Star Wars (1977)\n",
       "1      290       50       5  880473582  Star Wars (1977)\n",
       "2       79       50       4  891271545  Star Wars (1977)\n",
       "3        2       50       5  888552084  Star Wars (1977)\n",
       "4        8       50       5  879362124  Star Wars (1977)"
      ]
     },
     "execution_count": 68,
     "metadata": {},
     "output_type": "execute_result"
    }
   ],
   "source": [
    "df = pd.merge(df,movie_titles,on='item_id')\n",
    "df.head()"
   ]
  },
  {
   "cell_type": "markdown",
   "metadata": {},
   "source": [
    "Now let's take a quick look at the number of unique users and movies."
   ]
  },
  {
   "cell_type": "code",
   "execution_count": 69,
   "metadata": {},
   "outputs": [
    {
     "name": "stdout",
     "output_type": "stream",
     "text": [
      "Num. of Users: 944\n",
      "Num of Movies: 1682\n"
     ]
    }
   ],
   "source": [
    "n_users = df.user_id.nunique()\n",
    "n_items = df.item_id.nunique()\n",
    "\n",
    "print('Num. of Users: '+ str(n_users))\n",
    "print('Num of Movies: '+ str(n_items))"
   ]
  },
  {
   "cell_type": "markdown",
   "metadata": {},
   "source": [
    "## Train Test Split\n",
    "\n",
    "To evaluate the model this method we'll split our data into two sets. However, we won't do our classic X_train, X_test, y_train, y_test split. Instead we can actually just segement the data into two sets of data:"
   ]
  },
  {
   "cell_type": "code",
   "execution_count": 70,
   "metadata": {},
   "outputs": [],
   "source": [
    "from sklearn.model_selection import train_test_split\n",
    "train_data, test_data = train_test_split(df, test_size=0.25)"
   ]
  },
  {
   "cell_type": "code",
   "execution_count": 71,
   "metadata": {},
   "outputs": [
    {
     "data": {
      "text/html": [
       "<div>\n",
       "<style scoped>\n",
       "    .dataframe tbody tr th:only-of-type {\n",
       "        vertical-align: middle;\n",
       "    }\n",
       "\n",
       "    .dataframe tbody tr th {\n",
       "        vertical-align: top;\n",
       "    }\n",
       "\n",
       "    .dataframe thead th {\n",
       "        text-align: right;\n",
       "    }\n",
       "</style>\n",
       "<table border=\"1\" class=\"dataframe\">\n",
       "  <thead>\n",
       "    <tr style=\"text-align: right;\">\n",
       "      <th></th>\n",
       "      <th>user_id</th>\n",
       "      <th>item_id</th>\n",
       "      <th>rating</th>\n",
       "      <th>timestamp</th>\n",
       "      <th>title</th>\n",
       "    </tr>\n",
       "  </thead>\n",
       "  <tbody>\n",
       "    <tr>\n",
       "      <th>30990</th>\n",
       "      <td>193</td>\n",
       "      <td>69</td>\n",
       "      <td>5</td>\n",
       "      <td>889125287</td>\n",
       "      <td>Forrest Gump (1994)</td>\n",
       "    </tr>\n",
       "    <tr>\n",
       "      <th>49710</th>\n",
       "      <td>409</td>\n",
       "      <td>404</td>\n",
       "      <td>2</td>\n",
       "      <td>881109019</td>\n",
       "      <td>Pinocchio (1940)</td>\n",
       "    </tr>\n",
       "    <tr>\n",
       "      <th>40876</th>\n",
       "      <td>428</td>\n",
       "      <td>271</td>\n",
       "      <td>2</td>\n",
       "      <td>892572448</td>\n",
       "      <td>Starship Troopers (1997)</td>\n",
       "    </tr>\n",
       "    <tr>\n",
       "      <th>47544</th>\n",
       "      <td>846</td>\n",
       "      <td>715</td>\n",
       "      <td>4</td>\n",
       "      <td>883949380</td>\n",
       "      <td>To Die For (1995)</td>\n",
       "    </tr>\n",
       "    <tr>\n",
       "      <th>60789</th>\n",
       "      <td>313</td>\n",
       "      <td>161</td>\n",
       "      <td>4</td>\n",
       "      <td>891015319</td>\n",
       "      <td>Top Gun (1986)</td>\n",
       "    </tr>\n",
       "  </tbody>\n",
       "</table>\n",
       "</div>"
      ],
      "text/plain": [
       "       user_id  item_id  rating  timestamp                     title\n",
       "30990      193       69       5  889125287       Forrest Gump (1994)\n",
       "49710      409      404       2  881109019          Pinocchio (1940)\n",
       "40876      428      271       2  892572448  Starship Troopers (1997)\n",
       "47544      846      715       4  883949380         To Die For (1995)\n",
       "60789      313      161       4  891015319            Top Gun (1986)"
      ]
     },
     "execution_count": 71,
     "metadata": {},
     "output_type": "execute_result"
    }
   ],
   "source": [
    "train_data.head()"
   ]
  },
  {
   "cell_type": "markdown",
   "metadata": {},
   "source": [
    "Our first step will be to create the user-item matrix. Since we have both testing and training data we need to create two matrices."
   ]
  },
  {
   "cell_type": "code",
   "execution_count": 72,
   "metadata": {},
   "outputs": [],
   "source": [
    "#Create two user-item matrices, one for training and another for testing\n",
    "train_data_matrix = np.zeros((n_users, n_items))\n",
    "for line in train_data.itertuples():\n",
    "    train_data_matrix[line[1]-1, line[2]-1] = line[3]  \n",
    "\n",
    "test_data_matrix = np.zeros((n_users, n_items))\n",
    "for line in test_data.itertuples():\n",
    "    test_data_matrix[line[1]-1, line[2]-1] = line[3]"
   ]
  },
  {
   "cell_type": "markdown",
   "metadata": {},
   "source": [
    "We can use the [pairwise_distances](http://scikit-learn.org/stable/modules/generated/sklearn.metrics.pairwise.pairwise_distances.html) function from sklearn to calculate the cosine similarity. Note, the output will range from 0 to 1 since the ratings are all positive."
   ]
  },
  {
   "cell_type": "code",
   "execution_count": 73,
   "metadata": {},
   "outputs": [],
   "source": [
    "from sklearn.metrics.pairwise import pairwise_distances\n",
    "user_similarity = pairwise_distances(train_data_matrix, metric='cosine')\n",
    "item_similarity = pairwise_distances(train_data_matrix.T, metric='cosine')"
   ]
  },
  {
   "cell_type": "code",
   "execution_count": 74,
   "metadata": {},
   "outputs": [],
   "source": [
    "def predict(ratings, similarity, type='user'):\n",
    "    if type == 'user':\n",
    "        mean_user_rating = ratings.mean(axis=1)\n",
    "        #You use np.newaxis so that mean_user_rating has same format as ratings\n",
    "        ratings_diff = (ratings - mean_user_rating[:, np.newaxis]) \n",
    "        pred = mean_user_rating[:, np.newaxis] + similarity.dot(ratings_diff) / np.array([np.abs(similarity).sum(axis=1)]).T\n",
    "    elif type == 'item':\n",
    "        pred = ratings.dot(similarity) / np.array([np.abs(similarity).sum(axis=1)])     \n",
    "    return pred"
   ]
  },
  {
   "cell_type": "code",
   "execution_count": 75,
   "metadata": {},
   "outputs": [],
   "source": [
    "item_prediction = predict(train_data_matrix, item_similarity, type='item')\n",
    "user_prediction = predict(train_data_matrix, user_similarity, type='user')"
   ]
  },
  {
   "cell_type": "markdown",
   "metadata": {},
   "source": [
    "### Evaluation\n",
    "There are many evaluation metrics but one of the most popular metric used to evaluate accuracy of predicted ratings is *Root Mean Squared Error (RMSE)*. \n",
    "<img src=\"https://latex.codecogs.com/gif.latex?RMSE&space;=\\sqrt{\\frac{1}{N}&space;\\sum&space;(x_i&space;-\\hat{x_i})^2}\" title=\"RMSE =\\sqrt{\\frac{1}{N} \\sum (x_i -\\hat{x_i})^2}\" />\n",
    "\n",
    "We can use the [mean_square_error](http://scikit-learn.org/stable/modules/generated/sklearn.metrics.mean_squared_error.html) (MSE) function from `sklearn`, where the RMSE is just the square root of MSE."
   ]
  },
  {
   "cell_type": "markdown",
   "metadata": {},
   "source": [
    "Since we only want to consider predicted ratings that are in the test dataset, we filter out all other elements in the prediction matrix with `prediction[ground_truth.nonzero()]`. "
   ]
  },
  {
   "cell_type": "code",
   "execution_count": 76,
   "metadata": {},
   "outputs": [],
   "source": [
    "from sklearn.metrics import mean_squared_error\n",
    "from math import sqrt\n",
    "def rmse(prediction, ground_truth):\n",
    "    prediction = prediction[ground_truth.nonzero()].flatten() \n",
    "    ground_truth = ground_truth[ground_truth.nonzero()].flatten()\n",
    "    return sqrt(mean_squared_error(prediction, ground_truth))"
   ]
  },
  {
   "cell_type": "code",
   "execution_count": 77,
   "metadata": {},
   "outputs": [
    {
     "name": "stdout",
     "output_type": "stream",
     "text": [
      "User-based CF RMSE: 3.118110203364565\n",
      "Item-based CF RMSE: 3.446176172115203\n"
     ]
    }
   ],
   "source": [
    "print('User-based CF RMSE: ' + str(rmse(user_prediction, test_data_matrix)))\n",
    "print('Item-based CF RMSE: ' + str(rmse(item_prediction, test_data_matrix)))"
   ]
  }
 ],
 "metadata": {
  "kernelspec": {
   "display_name": "Python 3",
   "language": "python",
   "name": "python3"
  },
  "language_info": {
   "codemirror_mode": {
    "name": "ipython",
    "version": 3
   },
   "file_extension": ".py",
   "mimetype": "text/x-python",
   "name": "python",
   "nbconvert_exporter": "python",
   "pygments_lexer": "ipython3",
   "version": "3.7.10"
  }
 },
 "nbformat": 4,
 "nbformat_minor": 4
}
